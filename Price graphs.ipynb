{
 "cells": [
  {
   "cell_type": "code",
   "execution_count": 2,
   "metadata": {},
   "outputs": [
    {
     "name": "stdout",
     "output_type": "stream",
     "text": [
      "2019-06-28\n",
      "36768 - 31341 = 5427 rub., 17%\n"
     ]
    },
    {
     "ename": "KeyError",
     "evalue": "'date'",
     "output_type": "error",
     "traceback": [
      "\u001b[1;31m---------------------------------------------------------------------------\u001b[0m",
      "\u001b[1;31mKeyError\u001b[0m                                  Traceback (most recent call last)",
      "\u001b[1;32m<ipython-input-2-0c04f6a92f8b>\u001b[0m in \u001b[0;36m<module>\u001b[1;34m\u001b[0m\n\u001b[0;32m     51\u001b[0m         \u001b[0mreader\u001b[0m \u001b[1;33m=\u001b[0m \u001b[0mcsv\u001b[0m\u001b[1;33m.\u001b[0m\u001b[0mDictReader\u001b[0m\u001b[1;33m(\u001b[0m\u001b[0mfile\u001b[0m\u001b[1;33m,\u001b[0m \u001b[0mdelimiter\u001b[0m \u001b[1;33m=\u001b[0m \u001b[1;34m\";\"\u001b[0m\u001b[1;33m)\u001b[0m\u001b[1;33m\u001b[0m\u001b[1;33m\u001b[0m\u001b[0m\n\u001b[0;32m     52\u001b[0m         \u001b[1;32mfor\u001b[0m \u001b[0mline\u001b[0m \u001b[1;32min\u001b[0m \u001b[0mreader\u001b[0m\u001b[1;33m:\u001b[0m\u001b[1;33m\u001b[0m\u001b[1;33m\u001b[0m\u001b[0m\n\u001b[1;32m---> 53\u001b[1;33m             \u001b[0mdate_list\u001b[0m\u001b[1;33m.\u001b[0m\u001b[0mappend\u001b[0m\u001b[1;33m(\u001b[0m\u001b[0mline\u001b[0m\u001b[1;33m[\u001b[0m\u001b[1;34m'date'\u001b[0m\u001b[1;33m]\u001b[0m\u001b[1;33m)\u001b[0m\u001b[1;33m\u001b[0m\u001b[1;33m\u001b[0m\u001b[0m\n\u001b[0m\u001b[0;32m     54\u001b[0m     \u001b[1;31m# Write down current date and price into a csv file if they are new to the file\u001b[0m\u001b[1;33m\u001b[0m\u001b[1;33m\u001b[0m\u001b[1;33m\u001b[0m\u001b[0m\n\u001b[0;32m     55\u001b[0m     \u001b[1;32mif\u001b[0m \u001b[0mdate_list\u001b[0m\u001b[1;33m[\u001b[0m\u001b[1;33m-\u001b[0m\u001b[1;36m1\u001b[0m\u001b[1;33m]\u001b[0m \u001b[1;33m!=\u001b[0m \u001b[0mstr\u001b[0m\u001b[1;33m(\u001b[0m\u001b[0mdate_from_link\u001b[0m\u001b[1;33m)\u001b[0m\u001b[1;33m:\u001b[0m\u001b[1;33m\u001b[0m\u001b[1;33m\u001b[0m\u001b[0m\n",
      "\u001b[1;31mKeyError\u001b[0m: 'date'"
     ]
    }
   ],
   "source": [
    "# Get the current price of a 10-gram gold bar from the bank site and compare it to the purchase price\n",
    "import csv\n",
    "from datetime import datetime\n",
    "import json\n",
    "import matplotlib.pyplot as plt\n",
    "import pandas as pd\n",
    "import requests\n",
    "import xlrd\n",
    "\n",
    "# Secure from the non-operating site\n",
    "def get_url(url):\n",
    "    try:\n",
    "        result = requests.get(url)\n",
    "        result.raise_for_status()\n",
    "        return result.content\n",
    "    except(requests.RequestException, ValueError):\n",
    "        print(\"сетевая ошибка\")\n",
    "        return False\n",
    "\n",
    "\n",
    "# Open up the necessary page of the bank's site\n",
    "contents = get_url(\"https://www.sberbank.ru/proxy/services/dict-services/document/list?groupCode=279&regionCode=77&month=5&year=2019\")\n",
    "\n",
    "# Download the latest published xls file with prices\n",
    "if contents:\n",
    "    part_of_the_link = json.loads(contents)[-1]\n",
    "    part_of_the_link = part_of_the_link['fileUrl']\n",
    "    whole_link = \"http://sberbank.ru\" + part_of_the_link\n",
    "    xls_file = requests.get(whole_link, allow_redirects=True)\n",
    "\n",
    "    # Get the date from the link for further analysis\n",
    "    date_from_link = whole_link.split(\"/dm\")[1][:6]\n",
    "    date_from_link = datetime.strptime(date_from_link, '%d%m%y')\n",
    "    date_from_link = datetime.date(date_from_link)\n",
    "    print(date_from_link)\n",
    "    \n",
    "   # Retrieve the current gold bar value from the necessary cell of the file's first sheet\n",
    "    open('gold.xls', 'wb').write(xls_file.content)\n",
    "    book = xlrd.open_workbook(\"gold.xls\", encoding_override=\"cp1252\")\n",
    "    sheet = book.sheet_by_index(0)\n",
    "    new_price = int(sheet.cell_value(11, 3))\n",
    "\n",
    "    # Substract the current price from the purchase price and express it as a sum of money and percent\n",
    "    old_price = 31341\n",
    "    percentage = int(((new_price - old_price)*100)/old_price)\n",
    "    print(f\"{new_price} - 31341 = {int(new_price - old_price)} rub., {percentage}%\")\n",
    "\n",
    "    # Check if current date and price are already kept the csv file (if script is run several times a day)\n",
    "    date_list = []\n",
    "    with open(\"gold.csv\", \"r\", encoding = \"cp1251\") as file:\n",
    "        reader = csv.DictReader(file, delimiter = \";\")\n",
    "        for line in reader:\n",
    "            date_list.append(line['date'])\n",
    "    # Write down current date and price into a csv file if they are new to the file\n",
    "    if date_list[-1] != str(date_from_link):\n",
    "        data = {'date': date_from_link, 'old_price': old_price, 'new_price': new_price, 'percentage': percentage}\n",
    "        with open(\"gold.csv\", \"a\", encoding = \"cp1251\", newline = \"\") as f:\n",
    "            fieldnames = [\"date\", \"old_price\", \"new_price\", \"percentage\"]\n",
    "            writer = csv.DictWriter(f, fieldnames, delimiter = \";\")\n",
    "            writer.writerow(data)\n",
    "            \n",
    "    # Show the graphs with the current price value and the old price value (in Jupyter) using data from csv file\n",
    "    dataframe = pd.read_csv('gold.csv', sep=';')\n",
    "    dataframe.drop_duplicates('date')\n",
    "    plt.plot(dataframe['date'], dataframe['old_price'])\n",
    "    plt.plot(dataframe['date'], dataframe['new_price'])\n",
    "\n",
    "    # Gives names to the plot and its axis\n",
    "    plt.title('10-gram gold bar price fluctuation graph')\n",
    "    plt.xlabel('Dates')\n",
    "    plt.ylabel('Price [in roubles]')\n",
    "    \n",
    "    # Make position of dates' inscriptions vertical (otherwise they get unreadable)\n",
    "    plt.xticks(dataframe['date'], rotation='vertical')\n",
    "    plt.show()"
   ]
  },
  {
   "cell_type": "code",
   "execution_count": null,
   "metadata": {},
   "outputs": [],
   "source": []
  },
  {
   "cell_type": "code",
   "execution_count": null,
   "metadata": {},
   "outputs": [],
   "source": []
  }
 ],
 "metadata": {
  "kernelspec": {
   "display_name": "Python 3",
   "language": "python",
   "name": "python3"
  },
  "language_info": {
   "codemirror_mode": {
    "name": "ipython",
    "version": 3
   },
   "file_extension": ".py",
   "mimetype": "text/x-python",
   "name": "python",
   "nbconvert_exporter": "python",
   "pygments_lexer": "ipython3",
   "version": "3.6.8"
  }
 },
 "nbformat": 4,
 "nbformat_minor": 2
}
