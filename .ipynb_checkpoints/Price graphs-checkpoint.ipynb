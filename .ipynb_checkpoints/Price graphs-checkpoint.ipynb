{
 "cells": [
  {
   "cell_type": "code",
   "execution_count": 2,
   "metadata": {},
   "outputs": [
    {
     "name": "stdout",
     "output_type": "stream",
     "text": [
      "2019-04-19\n",
      "33888 - 31341 = 2547 rub., 8%\n"
     ]
    },
    {
     "data": {
      "image/png": "[encoded data removed]",
      "text/plain": [
       "<Figure size 432x288 with 1 Axes>"
      ]
     },
     "metadata": {
      "needs_background": "light"
     },
     "output_type": "display_data"
    }
   ],
   "source": [
    "# Get the current price of 10-gram gold bar from the bank site and compare it with the purchase price\n",
    "import requests\n",
    "from bs4 import BeautifulSoup as bs\n",
    "import xlrd\n",
    "import csv\n",
    "from datetime import datetime\n",
    "import matplotlib.pyplot as plt\n",
    "import pandas as pd\n",
    "\n",
    "# Open up the necessary page of the bank's site\n",
    "def get_html(url):\n",
    "# Secure from the non-operating site\n",
    "    try:\n",
    "        result = requests.get(url)\n",
    "        result.raise_for_status()\n",
    "        return result.text\n",
    "    except(requests.RequestException, ValueError):\n",
    "        print(\"сетевая ошибка\")\n",
    "        return False\n",
    "\n",
    "html = get_html(\"http://data.sberbank.ru/moscow/ru/quotes/archivoms/?base=beta\")\n",
    "\n",
    "# Download the first xls file in the files list\n",
    "if html:\n",
    "    soup = bs(html, \"html.parser\")\n",
    "    raw_script = soup.find(\"div\", {'class': \"layout-column\"}).find('script').contents[0]\n",
    "    raw_script = raw_script.split('url: \"')[1].split('\"')[0]\n",
    "    link = \"http://sberbank.ru\" + raw_script\n",
    "    raw_file = requests.get(link, allow_redirects=True)\n",
    "\n",
    "# Get the date from the link for further analysis\n",
    "    date_from_link = link.split(\"/dm\")[1][:6]\n",
    "    date_from_link = datetime.strptime(date_from_link, '%d%m%y')\n",
    "    date_from_link = datetime.date(date_from_link)\n",
    "    print(date_from_link)\n",
    "\n",
    "# Retrieve the current gold bar value from the necessary cell of the first sheet\n",
    "    open('gold.xls', 'wb').write(raw_file.content)\n",
    "    book = xlrd.open_workbook(\"gold.xls\", encoding_override=\"cp1252\")\n",
    "    sheet = book.sheet_by_index(0)\n",
    "    new_price = int(sheet.cell_value(11, 3))\n",
    "\n",
    "# Substract the current price from the purchase price and express it as percent\n",
    "    old_price = 31341\n",
    "    percentage = int(((new_price - old_price)*100)/old_price)\n",
    "    print(f\"{new_price} - 31341 = {int(new_price - old_price)} rub., {percentage}%\")\n",
    "\n",
    "# Write the date and the current price into a csv file\n",
    "data = [{'date': date_from_link, 'old_price': old_price, 'new_price': new_price, 'percentage': percentage}]\n",
    "with open(\"gold.csv\", \"a\", encoding = \"cp1251\", newline = \"\") as f:\n",
    "    fieldnames = [\"date\", \"old_price\", \"new_price\", \"percentage\"]\n",
    "    writer = csv.DictWriter(f, fieldnames, delimiter = \";\")\n",
    "# If the date and the price are already in the file, skip it\n",
    "    for row in data:\n",
    "        if row in data:\n",
    "            continue\n",
    "        else:\n",
    "            writer.writerow(row)\n",
    "# Show the graphs with the current price value and the old price value (Jupyter) using data from csv file\n",
    "    dataframe = pd.read_csv('gold.csv', sep=';')\n",
    "    dataframe.drop_duplicates('date')\n",
    "    plt.plot(dataframe['date'], dataframe['old_price'])\n",
    "    plt.plot(dataframe['date'], dataframe['new_price'])\n"
   ]
  }
 ],
 "metadata": {
  "kernelspec": {
   "display_name": "Python 3",
   "language": "python",
   "name": "python3"
  },
  "language_info": {
   "codemirror_mode": {
    "name": "ipython",
    "version": 3
   },
   "file_extension": ".py",
   "mimetype": "text/x-python",
   "name": "python",
   "nbconvert_exporter": "python",
   "pygments_lexer": "ipython3",
   "version": "3.6.8"
  }
 },
 "nbformat": 4,
 "nbformat_minor": 2
}
